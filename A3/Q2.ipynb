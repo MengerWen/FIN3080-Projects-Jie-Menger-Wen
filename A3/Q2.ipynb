{
 "cells": [
  {
   "cell_type": "markdown",
   "id": "7a43188c",
   "metadata": {},
   "source": [
    "### Import Libraries"
   ]
  },
  {
   "cell_type": "code",
   "execution_count": 1,
   "id": "9d554155",
   "metadata": {},
   "outputs": [],
   "source": [
    "import pandas as pd\n",
    "import numpy as np\n",
    "import statsmodels.api as sm\n",
    "import matplotlib.pyplot as plt\n",
    "from tabulate import tabulate  # For pretty table formatting\n",
    "\n",
    "# Set pandas display options for better readability\n",
    "pd.set_option('display.float_format', '{:.6f}'.format)"
   ]
  },
  {
   "cell_type": "markdown",
   "id": "adc570b7",
   "metadata": {},
   "source": [
    "# (b) & (c)"
   ]
  },
  {
   "cell_type": "markdown",
   "id": "a6768e3d",
   "metadata": {},
   "source": [
    "### 1: Load & Prepare Data"
   ]
  },
  {
   "cell_type": "markdown",
   "id": "0e93ba7b",
   "metadata": {},
   "source": [
    "`Stkcd` is the stock code, `Trdwnt` is the trading week, and `Wretnd` is the weekly stock return."
   ]
  },
  {
   "cell_type": "code",
   "execution_count": 4,
   "id": "8abfcbc9",
   "metadata": {},
   "outputs": [
    {
     "name": "stderr",
     "output_type": "stream",
     "text": [
      "<>:2: SyntaxWarning: invalid escape sequence '\\M'\n",
      "<>:3: SyntaxWarning: invalid escape sequence '\\M'\n",
      "<>:7: SyntaxWarning: invalid escape sequence '\\M'\n",
      "<>:2: SyntaxWarning: invalid escape sequence '\\M'\n",
      "<>:3: SyntaxWarning: invalid escape sequence '\\M'\n",
      "<>:7: SyntaxWarning: invalid escape sequence '\\M'\n",
      "C:\\Users\\19927\\AppData\\Local\\Temp\\ipykernel_45408\\3674383000.py:2: SyntaxWarning: invalid escape sequence '\\M'\n",
      "  stock_returns1 = pd.read_excel('D:\\MG\\！CUHKSZ\\~！大二 下\\FIN3080\\Assignments\\A3\\TRD_Week_1.xlsx', header=0, skiprows=[1, 2], dtype={'Stkcd': str})\n",
      "C:\\Users\\19927\\AppData\\Local\\Temp\\ipykernel_45408\\3674383000.py:3: SyntaxWarning: invalid escape sequence '\\M'\n",
      "  stock_returns2 = pd.read_excel('D:\\MG\\！CUHKSZ\\~！大二 下\\FIN3080\\Assignments\\A3\\TRD_Week_2.xlsx', header=0, skiprows=[1, 2], dtype={'Stkcd': str})\n",
      "C:\\Users\\19927\\AppData\\Local\\Temp\\ipykernel_45408\\3674383000.py:7: SyntaxWarning: invalid escape sequence '\\M'\n",
      "  rf_data = pd.read_excel('D:\\MG\\！CUHKSZ\\~！大二 下\\FIN3080\\Assignments\\A3\\weekly_risk_free_rate.xlsx', sheet_name='Sheet1')\n"
     ]
    },
    {
     "name": "stdout",
     "output_type": "stream",
     "text": [
      "Merged Data Sample:\n",
      "+---+--------+---------+-----------+-----------------------+\n",
      "|   | Stkcd  | Trdwnt  |  Wretnd   |   risk_free_return    |\n",
      "+---+--------+---------+-----------+-----------------------+\n",
      "| 0 | 000001 | 2017-01 | 0.003297  | 0.0005714053404517472 |\n",
      "| 1 | 000001 | 2017-02 | 0.003286  | 0.0007376706344075501 |\n",
      "| 2 | 000001 | 2017-03 |  0.00655  | 0.0005432766629382968 |\n",
      "| 3 | 000001 | 2017-04 | 0.011931  | 0.0007736414554528892 |\n",
      "| 4 | 000001 | 2017-05 | -0.007503 | 0.0008020293316803873 |\n",
      "+---+--------+---------+-----------+-----------------------+\n"
     ]
    }
   ],
   "source": [
    "# Load weekly stock returns from two Excel files and concatenate them\n",
    "stock_returns1 = pd.read_excel('D:\\MG\\！CUHKSZ\\~！大二 下\\FIN3080\\Assignments\\A3\\TRD_Week_1.xlsx', header=0, skiprows=[1, 2], dtype={'Stkcd': str})\n",
    "stock_returns2 = pd.read_excel('D:\\MG\\！CUHKSZ\\~！大二 下\\FIN3080\\Assignments\\A3\\TRD_Week_2.xlsx', header=0, skiprows=[1, 2], dtype={'Stkcd': str})\n",
    "stock_returns = pd.concat([stock_returns1, stock_returns2], ignore_index=True)\n",
    "\n",
    "# Load risk-free rate data and format the trading week\n",
    "rf_data = pd.read_excel('D:\\MG\\！CUHKSZ\\~！大二 下\\FIN3080\\Assignments\\A3\\weekly_risk_free_rate.xlsx', sheet_name='Sheet1')\n",
    "rf_data['trading_date_yw'] = pd.to_datetime(rf_data['trading_date_yw'])\n",
    "rf_data.set_index('trading_date_yw', inplace=True)\n",
    "rf_data['Trdwnt'] = rf_data.index.to_period('W').strftime('%Y-%U')\n",
    "\n",
    "# Merge stock returns with risk-free rates\n",
    "data = pd.merge(stock_returns, rf_data[['Trdwnt', 'risk_free_return']], on='Trdwnt', how='left')\n",
    "\n",
    "# Display a sample of the merged data\n",
    "print(\"Merged Data Sample:\")\n",
    "print(tabulate(data.head(), headers=['Stkcd', 'Trdwnt', 'Wretnd', 'risk_free_return'], tablefmt='pretty', floatfmt='.6f'))"
   ]
  },
  {
   "cell_type": "markdown",
   "id": "954f980d",
   "metadata": {},
   "source": [
    "### 2: Calculate Market Returns"
   ]
  },
  {
   "cell_type": "code",
   "execution_count": 5,
   "id": "f8a3956f",
   "metadata": {},
   "outputs": [
    {
     "name": "stdout",
     "output_type": "stream",
     "text": [
      "Data with Market Returns:\n",
      "+---+--------+---------+-----------+-----------------------+------------------------+\n",
      "|   | Stkcd  | Trdwnt  |  Wretnd   |   risk_free_return    |     Market_Return      |\n",
      "+---+--------+---------+-----------+-----------------------+------------------------+\n",
      "| 0 | 000001 | 2017-01 | 0.003297  | 0.0005714053404517472 |  0.016611333917923535  |\n",
      "| 1 | 000001 | 2017-02 | 0.003286  | 0.0007376706344075501 |  -0.03504762827225131  |\n",
      "| 2 | 000001 | 2017-03 |  0.00655  | 0.0005432766629382968 | -0.017416864300626302  |\n",
      "| 3 | 000001 | 2017-04 | 0.011931  | 0.0007736414554528892 |  0.019901674732111994  |\n",
      "| 4 | 000001 | 2017-05 | -0.007503 | 0.0008020293316803873 | -0.0025298505029483177 |\n",
      "+---+--------+---------+-----------+-----------------------+------------------------+\n"
     ]
    }
   ],
   "source": [
    "# Calculate market return as the mean of weekly returns across all stocks per week\n",
    "market_returns = data.groupby('Trdwnt')['Wretnd'].mean().reset_index()\n",
    "market_returns.rename(columns={'Wretnd': 'Market_Return'}, inplace=True)\n",
    "\n",
    "# Merge market returns back into the main dataset\n",
    "data = pd.merge(data, market_returns, on='Trdwnt', how='left')\n",
    "\n",
    "# Display a sample with market returns\n",
    "print(\"Data with Market Returns:\")\n",
    "print(tabulate(data.head(), headers=['Stkcd', 'Trdwnt', 'Wretnd', 'risk_free_return', 'Market_Return'], tablefmt='pretty', floatfmt='.6f'))"
   ]
  },
  {
   "cell_type": "markdown",
   "id": "f06a133a",
   "metadata": {},
   "source": [
    "# (d)"
   ]
  },
  {
   "cell_type": "markdown",
   "id": "8cfea9bc",
   "metadata": {},
   "source": [
    "### 1: Ensure Only Consistent Stocks"
   ]
  },
  {
   "cell_type": "code",
   "execution_count": 6,
   "id": "e1c2fee4",
   "metadata": {},
   "outputs": [
    {
     "name": "stdout",
     "output_type": "stream",
     "text": [
      "Number of Consistent Stocks: 1604\n"
     ]
    }
   ],
   "source": [
    "# Filter to include only stocks present in all weeks to ensure data consistency\n",
    "stocks_per_week = data.groupby('Trdwnt')['Stkcd'].apply(set)\n",
    "consistent_stocks = set.intersection(*stocks_per_week)\n",
    "data = data[data['Stkcd'].isin(consistent_stocks)].reset_index(drop=True)\n",
    "\n",
    "# Report the number of consistent stocks\n",
    "print(f\"Number of Consistent Stocks: {len(consistent_stocks)}\")"
   ]
  },
  {
   "cell_type": "markdown",
   "id": "5f815021",
   "metadata": {},
   "source": [
    "### 2: Divide Data into Three Periods"
   ]
  },
  {
   "cell_type": "markdown",
   "id": "444f9d9a",
   "metadata": {},
   "source": [
    "If `total_weeks` isn’t perfectly divisible by 3, the third period may have slightly more or fewer weeks, which is acceptable."
   ]
  },
  {
   "cell_type": "code",
   "execution_count": 5,
   "id": "e64e7278",
   "metadata": {},
   "outputs": [
    {
     "name": "stdout",
     "output_type": "stream",
     "text": [
      "Period 1 Weeks: 102, Period 2 Weeks: 102, Period 3 Weeks: 104\n"
     ]
    }
   ],
   "source": [
    "# Divide unique trading weeks into three approximately equal periods\n",
    "unique_weeks = sorted(data['Trdwnt'].unique())\n",
    "total_weeks = len(unique_weeks)\n",
    "period_size = total_weeks // 3\n",
    "\n",
    "period1_weeks = unique_weeks[:period_size]\n",
    "period2_weeks = unique_weeks[period_size:2*period_size]\n",
    "period3_weeks = unique_weeks[2*period_size:]\n",
    "\n",
    "# Split data into three periods\n",
    "period1_data = data[data['Trdwnt'].isin(period1_weeks)].copy()\n",
    "period2_data = data[data['Trdwnt'].isin(period2_weeks)].copy()\n",
    "period3_data = data[data['Trdwnt'].isin(period3_weeks)].copy()\n",
    "\n",
    "# Verify the number of weeks in each period\n",
    "print(f\"Period 1 Weeks: {len(period1_weeks)}, Period 2 Weeks: {len(period2_weeks)}, Period 3 Weeks: {len(period3_weeks)}\")"
   ]
  },
  {
   "cell_type": "markdown",
   "id": "07c9184f",
   "metadata": {},
   "source": [
    "### 3: Calculate Individual Stock Betas (First Period)"
   ]
  },
  {
   "cell_type": "markdown",
   "id": "dce3711d",
   "metadata": {},
   "source": [
    "Use the model $r_{i,t} = \\alpha_i + \\beta_i r_{m,t} + \\epsilon_i$, consistent with Section 4.1.1."
   ]
  },
  {
   "cell_type": "code",
   "execution_count": 6,
   "id": "12cb63dc",
   "metadata": {},
   "outputs": [
    {
     "name": "stderr",
     "output_type": "stream",
     "text": [
      "C:\\Users\\19927\\AppData\\Local\\Temp\\ipykernel_29416\\3446040974.py:9: DeprecationWarning: DataFrameGroupBy.apply operated on the grouping columns. This behavior is deprecated, and in a future version of pandas the grouping columns will be excluded from the operation. Either pass `include_groups=False` to exclude the groupings or explicitly select the grouping columns after groupby to silence this warning.\n",
      "  stock_betas = period1_data.groupby('Stkcd').apply(calculate_stock_beta).reset_index()\n"
     ]
    }
   ],
   "source": [
    "def calculate_stock_beta(group):\n",
    "    \"\"\"Calculate stock beta using OLS: r_{i,t} = alpha_i + beta_i * r_{m,t} + epsilon_i\"\"\"\n",
    "    X = sm.add_constant(group['Market_Return'])\n",
    "    y = group['Wretnd']\n",
    "    model = sm.OLS(y, X, missing='drop').fit()\n",
    "    return pd.Series({'beta': model.params['Market_Return']})\n",
    "\n",
    "# Calculate betas for each stock in the first period\n",
    "stock_betas = period1_data.groupby('Stkcd').apply(calculate_stock_beta).reset_index()"
   ]
  },
  {
   "cell_type": "markdown",
   "id": "3ce748fb",
   "metadata": {},
   "source": [
    "### 4: Form Ten Portfolios"
   ]
  },
  {
   "cell_type": "markdown",
   "id": "81742209",
   "metadata": {},
   "source": [
    "Portfolios are formed by sorting $\\beta_i$ into deciles。"
   ]
  },
  {
   "cell_type": "code",
   "execution_count": 7,
   "id": "397616b6",
   "metadata": {},
   "outputs": [
    {
     "name": "stdout",
     "output_type": "stream",
     "text": [
      "Number of Stocks in Each Portfolio:\n",
      "+---+-----------+-------------+\n",
      "|   | Portfolio | Stock Count |\n",
      "+---+-----------+-------------+\n",
      "| 0 |     1     |     161     |\n",
      "| 1 |     2     |     160     |\n",
      "| 2 |     3     |     160     |\n",
      "| 3 |     4     |     161     |\n",
      "| 4 |     5     |     160     |\n",
      "| 5 |     6     |     160     |\n",
      "| 6 |     7     |     161     |\n",
      "| 7 |     8     |     160     |\n",
      "| 8 |     9     |     160     |\n",
      "| 9 |    10     |     161     |\n",
      "+---+-----------+-------------+\n"
     ]
    }
   ],
   "source": [
    "# Assign stocks to 10 portfolios based on beta deciles from the first period\n",
    "stock_betas['beta_group'] = pd.qcut(stock_betas['beta'], 10, labels=False) + 1\n",
    "\n",
    "# Merge beta groups into period 2 and 3 data\n",
    "period2_data = pd.merge(period2_data, stock_betas[['Stkcd', 'beta_group']], on='Stkcd', how='left')\n",
    "period3_data = pd.merge(period3_data, stock_betas[['Stkcd', 'beta_group']], on='Stkcd', how='left')\n",
    "\n",
    "# Verify the number of stocks per portfolio\n",
    "portfolio_counts = period2_data.groupby('beta_group')['Stkcd'].nunique()\n",
    "print(\"Number of Stocks in Each Portfolio:\")\n",
    "print(tabulate(portfolio_counts.reset_index(), headers=['Portfolio', 'Stock Count'], tablefmt='pretty'))"
   ]
  },
  {
   "cell_type": "markdown",
   "id": "ae7b03ec",
   "metadata": {},
   "source": [
    "### 5: Calculate Portfolio Betas (Second Period) - Table 2"
   ]
  },
  {
   "cell_type": "markdown",
   "id": "c9aba757",
   "metadata": {},
   "source": [
    "- Portfolio returns are equal-weighted averages.\n",
    "- Regression uses $r_{p,t} - r_{f,t} = \\alpha_p + \\beta_p (r_{m,t} - r_{f,t}) + \\epsilon_{p,t}$.\n",
    "- Outputs $\\alpha_p$, $\\beta_p$, t-values, p-values, and $R^2$, matching Table 2’s structure."
   ]
  },
  {
   "cell_type": "code",
   "execution_count": 8,
   "id": "59241cf5",
   "metadata": {},
   "outputs": [
    {
     "name": "stdout",
     "output_type": "stream",
     "text": [
      "Table 2: Time Series Regression Results for Portfolios\n",
      "+-----------+----------+---------+---------+----------+--------+------------+-----------+\n",
      "| Portfolio |  Alpha   | Alpha_t | Alpha_p |   Beta   | Beta_t |   Beta_p   | R_squared |\n",
      "+-----------+----------+---------+---------+----------+--------+------------+-----------+\n",
      "|     1     | -3.6e-05 | -0.033  | 0.9738  | 0.673459 | 20.328 | 4.1086e-37 |  0.8067   |\n",
      "|     2     | 0.000628 |  0.786  | 0.4335  | 0.806966 | 32.951 | 3.6391e-55 |  0.9164   |\n",
      "|     3     | 0.000533 |  0.743  | 0.4591  | 0.841312 | 38.289 | 3.7288e-61 |  0.9367   |\n",
      "|     4     | 0.000559 |  0.789  | 0.4318  | 0.892307 | 41.089 | 5.1897e-64 |  0.9446   |\n",
      "|     5     | 6.8e-05  |  0.116  | 0.9081  | 0.934127 | 52.07  | 9.5865e-74 |  0.9648   |\n",
      "|     6     | 0.000441 |  0.841  | 0.4024  | 1.011989 | 62.973 | 1.1111e-81 |  0.9756   |\n",
      "|     7     | 0.000372 |  0.796  | 0.4277  | 1.002425 | 69.98  | 4.0619e-86 |  0.9802   |\n",
      "|     8     | 0.000385 |  0.722  | 0.4719  | 1.067248 | 65.332 | 3.1736e-83 |  0.9773   |\n",
      "|     9     | 0.001052 |  1.712  | 0.0901  | 1.129976 | 59.964 | 1.2530e-79 |  0.9732   |\n",
      "|    10     | 0.000511 |  0.618  | 0.5380  | 1.17407  | 46.366 | 5.9601e-69 |   0.956   |\n",
      "+-----------+----------+---------+---------+----------+--------+------------+-----------+\n"
     ]
    }
   ],
   "source": [
    "# Calculate equal-weighted portfolio returns for the second period\n",
    "portfolio_returns_p2 = period2_data.groupby(['Trdwnt', 'beta_group'])['Wretnd'].mean().reset_index()\n",
    "portfolio_data_p2 = pd.merge(portfolio_returns_p2, \n",
    "                             period2_data[['Trdwnt', 'Market_Return', 'risk_free_return']].drop_duplicates(), \n",
    "                             on='Trdwnt', how='left')\n",
    "\n",
    "# Compute excess returns\n",
    "portfolio_data_p2['portfolio_excess'] = portfolio_data_p2['Wretnd'] - portfolio_data_p2['risk_free_return']\n",
    "portfolio_data_p2['market_excess'] = portfolio_data_p2['Market_Return'] - portfolio_data_p2['risk_free_return']\n",
    "\n",
    "# Perform time series regression for each portfolio\n",
    "table2_results = []\n",
    "for group in range(1, 11):\n",
    "    group_data = portfolio_data_p2[portfolio_data_p2['beta_group'] == group]\n",
    "    if len(group_data) < 2:\n",
    "        continue\n",
    "    X = sm.add_constant(group_data['market_excess'])\n",
    "    y = group_data['portfolio_excess']\n",
    "    model = sm.OLS(y, X, missing='drop').fit()\n",
    "    table2_results.append({\n",
    "        'Portfolio': group,\n",
    "        'Alpha': model.params['const'],\n",
    "        'Alpha_t': model.tvalues['const'],\n",
    "        'Alpha_p': model.pvalues['const'],\n",
    "        'Beta': model.params['market_excess'],\n",
    "        'Beta_t': model.tvalues['market_excess'],\n",
    "        'Beta_p': model.pvalues['market_excess'],\n",
    "        'R_squared': model.rsquared\n",
    "    })\n",
    "\n",
    "# Format and display Table 2\n",
    "table2_df = pd.DataFrame(table2_results)\n",
    "table2_df['Alpha'] = table2_df['Alpha'].round(6)\n",
    "table2_df['Alpha_t'] = table2_df['Alpha_t'].round(3)\n",
    "table2_df['Alpha_p'] = table2_df['Alpha_p'].apply(lambda x: f\"{x:.4f}\")\n",
    "table2_df['Beta'] = table2_df['Beta'].round(6)\n",
    "table2_df['Beta_t'] = table2_df['Beta_t'].round(3)\n",
    "table2_df['Beta_p'] = table2_df['Beta_p'].apply(lambda x: f\"{x:.4e}\")\n",
    "table2_df['R_squared'] = table2_df['R_squared'].round(4)\n",
    "\n",
    "print(\"Table 2: Time Series Regression Results for Portfolios\")\n",
    "print(tabulate(table2_df, headers='keys', tablefmt='pretty', showindex=False))"
   ]
  },
  {
   "cell_type": "markdown",
   "id": "dc51af68",
   "metadata": {},
   "source": [
    "### 6: Calculate Average Excess Returns (Third Period)"
   ]
  },
  {
   "cell_type": "markdown",
   "id": "bacc4623",
   "metadata": {},
   "source": [
    "Computes $\\overline{r_{p,t} - r_{f,t}}$ over the third period."
   ]
  },
  {
   "cell_type": "code",
   "execution_count": null,
   "id": "5b3f9e2a",
   "metadata": {},
   "outputs": [
    {
     "name": "stdout",
     "output_type": "stream",
     "text": [
      "Average Excess Returns for Each Portfolio in Period 3:\n",
      "+---+-----------+-----------------------+\n",
      "|   | Portfolio |   Avg Excess Return   |\n",
      "+---+-----------+-----------------------+\n",
      "| 0 |    1.0    | 0.0011227736376281361 |\n",
      "| 1 |    2.0    | 0.0009735728673803038 |\n",
      "| 2 |    3.0    | 0.0004225399465882249 |\n",
      "| 3 |    4.0    | 0.001097632133415603  |\n",
      "| 4 |    5.0    | 0.001715878003518918  |\n",
      "| 5 |    6.0    | 0.0010043155035189177 |\n",
      "| 6 |    7.0    | 0.0014534650465205781 |\n",
      "| 7 |    8.0    | 0.001166215255994165  |\n",
      "| 8 |    9.0    | 0.001558971196588225  |\n",
      "| 9 |   10.0    | 0.0011130892393746462 |\n",
      "+---+-----------+-----------------------+\n"
     ]
    }
   ],
   "source": [
    "# Calculate equal-weighted portfolio returns for the third period\n",
    "portfolio_returns_p3 = period3_data.groupby(['Trdwnt', 'beta_group'])['Wretnd'].mean().reset_index()\n",
    "portfolio_data_p3 = pd.merge(portfolio_returns_p3, \n",
    "                             period3_data[['Trdwnt', 'risk_free_return']].drop_duplicates(), \n",
    "                             on='Trdwnt', how='left')\n",
    "\n",
    "# Compute excess returns\n",
    "portfolio_data_p3['portfolio_excess'] = portfolio_data_p3['Wretnd'] - portfolio_data_p3['risk_free_return']\n",
    "\n",
    "# Calculate average excess returns per portfolio\n",
    "avg_excess_returns = portfolio_data_p3.groupby('beta_group')['portfolio_excess'].mean().reset_index()\n",
    "avg_excess_returns.rename(columns={'portfolio_excess': 'avg_excess_return'}, inplace=True)\n",
    "\n",
    "# Display average excess returns\n",
    "print(\"Average Excess Returns for Each Portfolio in Period 3:\")\n",
    "print(tabulate(avg_excess_returns, headers=['Portfolio', 'Avg Excess Return'], tablefmt='pretty', floatfmt='.6f'))"
   ]
  },
  {
   "cell_type": "markdown",
   "id": "51508733",
   "metadata": {},
   "source": [
    "### 7: Cross-Sectional Regression - Table 3"
   ]
  },
  {
   "cell_type": "markdown",
   "id": "0f67a0d7",
   "metadata": {},
   "source": [
    "- Regresses $\\overline{r_{p,t} - r_{f,t}} = \\gamma_0 + \\gamma_1 \\beta_p + \\epsilon_p$.\n",
    "- Reports coefficients, t-statistics, p-values, $R^2$, and F-statistics, aligning with Table 3."
   ]
  },
  {
   "cell_type": "code",
   "execution_count": 10,
   "id": "5fea1b62",
   "metadata": {},
   "outputs": [
    {
     "name": "stdout",
     "output_type": "stream",
     "text": [
      "Table 3: Cross-Sectional Regression Results\n",
      "+-------------+----------+---------+---------+-----------+-------------+-----------+\n",
      "| Coefficient | Estimate | t-value | p-value | R-squared | F-statistic | F p-value |\n",
      "+-------------+----------+---------+---------+-----------+-------------+-----------+\n",
      "|   gamma_0   | 0.000367 |  0.496  | 0.6334  |  0.1287   |   1.1813    |  0.3088   |\n",
      "|   gamma_1   | 0.000835 |  1.087  | 0.3088  |           |             |           |\n",
      "+-------------+----------+---------+---------+-----------+-------------+-----------+\n"
     ]
    }
   ],
   "source": [
    "# Merge average excess returns with portfolio betas from Period 2\n",
    "cross_section_data = pd.merge(avg_excess_returns, table2_df[['Portfolio', 'Beta']], \n",
    "                              left_on='beta_group', right_on='Portfolio', how='left')\n",
    "\n",
    "# Perform cross-sectional regression: avg_excess_return = gamma_0 + gamma_1 * Beta + epsilon\n",
    "X = sm.add_constant(cross_section_data['Beta'])\n",
    "y = cross_section_data['avg_excess_return']\n",
    "model = sm.OLS(y, X, missing='drop').fit()\n",
    "\n",
    "# Compile and format regression results\n",
    "table3_results = {\n",
    "    'Coefficient': ['gamma_0', 'gamma_1'],\n",
    "    'Estimate': [model.params['const'], model.params['Beta']],\n",
    "    't-value': [model.tvalues['const'], model.tvalues['Beta']],\n",
    "    'p-value': [model.pvalues['const'], model.pvalues['Beta']],\n",
    "    'R-squared': [model.rsquared, ''],\n",
    "    'F-statistic': [model.fvalue, ''],\n",
    "    'F p-value': [model.f_pvalue, '']\n",
    "}\n",
    "table3_df = pd.DataFrame(table3_results)\n",
    "table3_df['Estimate'] = table3_df['Estimate'].round(6)\n",
    "table3_df['t-value'] = table3_df['t-value'].round(3)\n",
    "table3_df['p-value'] = table3_df['p-value'].apply(lambda x: f\"{x:.4f}\")\n",
    "table3_df['R-squared'] = table3_df['R-squared'].apply(lambda x: f\"{x:.4f}\" if x != '' else '')\n",
    "table3_df['F-statistic'] = table3_df['F-statistic'].apply(lambda x: f\"{x:.4f}\" if x != '' else '')\n",
    "table3_df['F p-value'] = table3_df['F p-value'].apply(lambda x: f\"{x:.4f}\" if x != '' else '')\n",
    "\n",
    "# Display Table 3\n",
    "print(\"Table 3: Cross-Sectional Regression Results\")\n",
    "print(tabulate(table3_df, headers='keys', tablefmt='pretty', showindex=False))"
   ]
  },
  {
   "cell_type": "markdown",
   "id": "fbe17271",
   "metadata": {},
   "source": [
    "### 8: Regression Scatter Plot"
   ]
  },
  {
   "cell_type": "code",
   "execution_count": 11,
   "id": "83fe9295",
   "metadata": {},
   "outputs": [
    {
     "data": {
      "image/png": "[encoded data removed]",
      "text/plain": [
       "<Figure size 1000x600 with 1 Axes>"
      ]
     },
     "metadata": {},
     "output_type": "display_data"
    }
   ],
   "source": [
    "# Create a scatter plot of Beta vs. Average Excess Return\n",
    "plt.figure(figsize=(10, 6))\n",
    "plt.scatter(cross_section_data['Beta'], cross_section_data['avg_excess_return'], \n",
    "            color='blue', label='Portfolios')\n",
    "\n",
    "# Add regression line\n",
    "beta_range = np.linspace(cross_section_data['Beta'].min(), cross_section_data['Beta'].max(), 100)\n",
    "regression_line = model.params['const'] + model.params['Beta'] * beta_range\n",
    "plt.plot(beta_range, regression_line, color='red', label='Regression Line')\n",
    "\n",
    "# Customize plot\n",
    "plt.xlabel('Portfolio Beta (β_p)')\n",
    "plt.ylabel('Average Excess Return (r_p - r_f)')\n",
    "plt.title('Cross-Sectional Regression: Portfolio Beta vs. Average Excess Return')\n",
    "plt.legend()\n",
    "plt.grid(True, linestyle='--', alpha=0.7)\n",
    "\n",
    "# Display plot\n",
    "plt.show()"
   ]
  }
 ],
 "metadata": {
  "kernelspec": {
   "display_name": "Python 3",
   "language": "python",
   "name": "python3"
  },
  "language_info": {
   "codemirror_mode": {
    "name": "ipython",
    "version": 3
   },
   "file_extension": ".py",
   "mimetype": "text/x-python",
   "name": "python",
   "nbconvert_exporter": "python",
   "pygments_lexer": "ipython3",
   "version": "3.12.0"
  }
 },
 "nbformat": 4,
 "nbformat_minor": 5
}
