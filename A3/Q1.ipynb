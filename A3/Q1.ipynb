{
 "cells": [
  {
   "cell_type": "markdown",
   "metadata": {},
   "source": [
    "# (a)"
   ]
  },
  {
   "cell_type": "markdown",
   "metadata": {},
   "source": [
    "### 1: Import & Load"
   ]
  },
  {
   "cell_type": "code",
   "execution_count": 1,
   "metadata": {},
   "outputs": [],
   "source": [
    "import pandas as pd\n",
    "import numpy as np\n",
    "import matplotlib.pyplot as plt\n",
    "\n",
    "file_path = r'D:\\MG\\！CUHKSZ\\~！大二 下\\FIN3080\\Assignments\\A3\\CSI 300.xlsx'\n",
    "df = pd.read_excel(file_path)\n"
   ]
  },
  {
   "cell_type": "code",
   "execution_count": 2,
   "metadata": {},
   "outputs": [
    {
     "data": {
      "text/html": [
       "<div>\n",
       "<style scoped>\n",
       "    .dataframe tbody tr th:only-of-type {\n",
       "        vertical-align: middle;\n",
       "    }\n",
       "\n",
       "    .dataframe tbody tr th {\n",
       "        vertical-align: top;\n",
       "    }\n",
       "\n",
       "    .dataframe thead th {\n",
       "        text-align: right;\n",
       "    }\n",
       "</style>\n",
       "<table border=\"1\" class=\"dataframe\">\n",
       "  <thead>\n",
       "    <tr style=\"text-align: right;\">\n",
       "      <th></th>\n",
       "      <th>Indexcd</th>\n",
       "      <th>Trddt</th>\n",
       "      <th>Clsindex</th>\n",
       "    </tr>\n",
       "  </thead>\n",
       "  <tbody>\n",
       "    <tr>\n",
       "      <th>0</th>\n",
       "      <td>Index Code</td>\n",
       "      <td>Trading Date</td>\n",
       "      <td>Closing Index</td>\n",
       "    </tr>\n",
       "    <tr>\n",
       "      <th>1</th>\n",
       "      <td>No Unit</td>\n",
       "      <td>No Unit</td>\n",
       "      <td>No Unit</td>\n",
       "    </tr>\n",
       "    <tr>\n",
       "      <th>2</th>\n",
       "      <td>000001</td>\n",
       "      <td>2006-01-04</td>\n",
       "      <td>1180.963</td>\n",
       "    </tr>\n",
       "    <tr>\n",
       "      <th>3</th>\n",
       "      <td>000001</td>\n",
       "      <td>2006-01-05</td>\n",
       "      <td>1197.269</td>\n",
       "    </tr>\n",
       "    <tr>\n",
       "      <th>4</th>\n",
       "      <td>000001</td>\n",
       "      <td>2006-01-06</td>\n",
       "      <td>1209.422</td>\n",
       "    </tr>\n",
       "  </tbody>\n",
       "</table>\n",
       "</div>"
      ],
      "text/plain": [
       "      Indexcd         Trddt       Clsindex\n",
       "0  Index Code  Trading Date  Closing Index\n",
       "1     No Unit       No Unit        No Unit\n",
       "2      000001    2006-01-04       1180.963\n",
       "3      000001    2006-01-05       1197.269\n",
       "4      000001    2006-01-06       1209.422"
      ]
     },
     "execution_count": 2,
     "metadata": {},
     "output_type": "execute_result"
    }
   ],
   "source": [
    "df.head()"
   ]
  },
  {
   "cell_type": "markdown",
   "metadata": {},
   "source": [
    "### 2: Filter Data for CSI 300 Index"
   ]
  },
  {
   "cell_type": "code",
   "execution_count": 3,
   "metadata": {},
   "outputs": [
    {
     "data": {
      "text/html": [
       "<div>\n",
       "<style scoped>\n",
       "    .dataframe tbody tr th:only-of-type {\n",
       "        vertical-align: middle;\n",
       "    }\n",
       "\n",
       "    .dataframe tbody tr th {\n",
       "        vertical-align: top;\n",
       "    }\n",
       "\n",
       "    .dataframe thead th {\n",
       "        text-align: right;\n",
       "    }\n",
       "</style>\n",
       "<table border=\"1\" class=\"dataframe\">\n",
       "  <thead>\n",
       "    <tr style=\"text-align: right;\">\n",
       "      <th></th>\n",
       "      <th>Indexcd</th>\n",
       "      <th>Trddt</th>\n",
       "      <th>Clsindex</th>\n",
       "    </tr>\n",
       "  </thead>\n",
       "  <tbody>\n",
       "    <tr>\n",
       "      <th>21304</th>\n",
       "      <td>000300</td>\n",
       "      <td>2006-01-04</td>\n",
       "      <td>941.428</td>\n",
       "    </tr>\n",
       "    <tr>\n",
       "      <th>21305</th>\n",
       "      <td>000300</td>\n",
       "      <td>2006-01-05</td>\n",
       "      <td>959.134</td>\n",
       "    </tr>\n",
       "    <tr>\n",
       "      <th>21306</th>\n",
       "      <td>000300</td>\n",
       "      <td>2006-01-06</td>\n",
       "      <td>970.032</td>\n",
       "    </tr>\n",
       "    <tr>\n",
       "      <th>21307</th>\n",
       "      <td>000300</td>\n",
       "      <td>2006-01-09</td>\n",
       "      <td>975.253</td>\n",
       "    </tr>\n",
       "    <tr>\n",
       "      <th>21308</th>\n",
       "      <td>000300</td>\n",
       "      <td>2006-01-10</td>\n",
       "      <td>978.154</td>\n",
       "    </tr>\n",
       "  </tbody>\n",
       "</table>\n",
       "</div>"
      ],
      "text/plain": [
       "      Indexcd       Trddt Clsindex\n",
       "21304  000300  2006-01-04  941.428\n",
       "21305  000300  2006-01-05  959.134\n",
       "21306  000300  2006-01-06  970.032\n",
       "21307  000300  2006-01-09  975.253\n",
       "21308  000300  2006-01-10  978.154"
      ]
     },
     "execution_count": 3,
     "metadata": {},
     "output_type": "execute_result"
    }
   ],
   "source": [
    "csi300_df = df[df['Indexcd'] == '000300']\n",
    "\n",
    "# Display the first few rows of the filtered data\n",
    "csi300_df.head()"
   ]
  },
  {
   "cell_type": "markdown",
   "metadata": {},
   "source": [
    "### 3: Convert Trading Date to Datetime"
   ]
  },
  {
   "cell_type": "code",
   "execution_count": 4,
   "metadata": {},
   "outputs": [
    {
     "name": "stderr",
     "output_type": "stream",
     "text": [
      "C:\\Users\\19927\\AppData\\Local\\Temp\\ipykernel_33872\\1535329539.py:1: SettingWithCopyWarning: \n",
      "A value is trying to be set on a copy of a slice from a DataFrame.\n",
      "Try using .loc[row_indexer,col_indexer] = value instead\n",
      "\n",
      "See the caveats in the documentation: https://pandas.pydata.org/pandas-docs/stable/user_guide/indexing.html#returning-a-view-versus-a-copy\n",
      "  csi300_df['Trddt'] = pd.to_datetime(csi300_df['Trddt'])\n"
     ]
    },
    {
     "data": {
      "text/plain": [
       "Indexcd             object\n",
       "Trddt       datetime64[ns]\n",
       "Clsindex            object\n",
       "dtype: object"
      ]
     },
     "execution_count": 4,
     "metadata": {},
     "output_type": "execute_result"
    }
   ],
   "source": [
    "csi300_df['Trddt'] = pd.to_datetime(csi300_df['Trddt'])\n",
    "\n",
    "# Verify the conversion\n",
    "csi300_df.dtypes"
   ]
  },
  {
   "cell_type": "markdown",
   "metadata": {},
   "source": [
    "### 4: Set Trading Date as Index"
   ]
  },
  {
   "cell_type": "code",
   "execution_count": 5,
   "metadata": {},
   "outputs": [
    {
     "data": {
      "text/html": [
       "<div>\n",
       "<style scoped>\n",
       "    .dataframe tbody tr th:only-of-type {\n",
       "        vertical-align: middle;\n",
       "    }\n",
       "\n",
       "    .dataframe tbody tr th {\n",
       "        vertical-align: top;\n",
       "    }\n",
       "\n",
       "    .dataframe thead th {\n",
       "        text-align: right;\n",
       "    }\n",
       "</style>\n",
       "<table border=\"1\" class=\"dataframe\">\n",
       "  <thead>\n",
       "    <tr style=\"text-align: right;\">\n",
       "      <th></th>\n",
       "      <th>Indexcd</th>\n",
       "      <th>Clsindex</th>\n",
       "    </tr>\n",
       "    <tr>\n",
       "      <th>Trddt</th>\n",
       "      <th></th>\n",
       "      <th></th>\n",
       "    </tr>\n",
       "  </thead>\n",
       "  <tbody>\n",
       "    <tr>\n",
       "      <th>2006-01-04</th>\n",
       "      <td>000300</td>\n",
       "      <td>941.428</td>\n",
       "    </tr>\n",
       "    <tr>\n",
       "      <th>2006-01-05</th>\n",
       "      <td>000300</td>\n",
       "      <td>959.134</td>\n",
       "    </tr>\n",
       "    <tr>\n",
       "      <th>2006-01-06</th>\n",
       "      <td>000300</td>\n",
       "      <td>970.032</td>\n",
       "    </tr>\n",
       "    <tr>\n",
       "      <th>2006-01-09</th>\n",
       "      <td>000300</td>\n",
       "      <td>975.253</td>\n",
       "    </tr>\n",
       "    <tr>\n",
       "      <th>2006-01-10</th>\n",
       "      <td>000300</td>\n",
       "      <td>978.154</td>\n",
       "    </tr>\n",
       "  </tbody>\n",
       "</table>\n",
       "</div>"
      ],
      "text/plain": [
       "           Indexcd Clsindex\n",
       "Trddt                      \n",
       "2006-01-04  000300  941.428\n",
       "2006-01-05  000300  959.134\n",
       "2006-01-06  000300  970.032\n",
       "2006-01-09  000300  975.253\n",
       "2006-01-10  000300  978.154"
      ]
     },
     "execution_count": 5,
     "metadata": {},
     "output_type": "execute_result"
    }
   ],
   "source": [
    "# Set 'Trddt' as the index\n",
    "csi300_df.set_index('Trddt', inplace=True)\n",
    "\n",
    "# Display the DataFrame to confirm\n",
    "csi300_df.head()"
   ]
  },
  {
   "cell_type": "markdown",
   "metadata": {},
   "source": [
    "### 5: Resample to Monthly Closing Indices"
   ]
  },
  {
   "cell_type": "code",
   "execution_count": 6,
   "metadata": {},
   "outputs": [
    {
     "name": "stderr",
     "output_type": "stream",
     "text": [
      "C:\\Users\\19927\\AppData\\Local\\Temp\\ipykernel_33872\\1288809039.py:2: FutureWarning: 'M' is deprecated and will be removed in a future version, please use 'ME' instead.\n",
      "  monthly_closes = csi300_df['Clsindex'].resample('M').last()\n"
     ]
    },
    {
     "data": {
      "text/plain": [
       "Trddt\n",
       "2006-01-31    1009.597\n",
       "2006-02-28     1053.01\n",
       "2006-03-31    1061.088\n",
       "2006-04-30    1172.347\n",
       "2006-05-31    1365.451\n",
       "Freq: ME, Name: Clsindex, dtype: object"
      ]
     },
     "execution_count": 6,
     "metadata": {},
     "output_type": "execute_result"
    }
   ],
   "source": [
    "# Resample to monthly frequency and take the last closing index\n",
    "monthly_closes = csi300_df['Clsindex'].resample('M').last()\n",
    "\n",
    "# Display the first few monthly closing indices\n",
    "monthly_closes.head()"
   ]
  },
  {
   "cell_type": "markdown",
   "metadata": {},
   "source": [
    "### 6: Compute Monthly Returns"
   ]
  },
  {
   "cell_type": "code",
   "execution_count": 7,
   "metadata": {},
   "outputs": [
    {
     "name": "stderr",
     "output_type": "stream",
     "text": [
      "C:\\Users\\19927\\AppData\\Local\\Temp\\ipykernel_33872\\1368748129.py:2: FutureWarning: Downcasting object dtype arrays on .fillna, .ffill, .bfill is deprecated and will change in a future version. Call result.infer_objects(copy=False) instead. To opt-in to the future behavior, set `pd.set_option('future.no_silent_downcasting', True)`\n",
      "  monthly_returns = monthly_closes.pct_change()\n"
     ]
    },
    {
     "data": {
      "text/plain": [
       "Trddt\n",
       "2006-01-31         NaN\n",
       "2006-02-28    0.043000\n",
       "2006-03-31    0.007671\n",
       "2006-04-30    0.104854\n",
       "2006-05-31    0.164716\n",
       "Freq: ME, Name: Clsindex, dtype: float64"
      ]
     },
     "execution_count": 7,
     "metadata": {},
     "output_type": "execute_result"
    }
   ],
   "source": [
    "# Calculate monthly returns\n",
    "monthly_returns = monthly_closes.pct_change()\n",
    "\n",
    "# Display the first few returns\n",
    "monthly_returns.head()"
   ]
  },
  {
   "cell_type": "markdown",
   "metadata": {},
   "source": [
    "### 7: Remove Missing Values"
   ]
  },
  {
   "cell_type": "code",
   "execution_count": 8,
   "metadata": {},
   "outputs": [
    {
     "data": {
      "text/plain": [
       "0"
      ]
     },
     "execution_count": 8,
     "metadata": {},
     "output_type": "execute_result"
    }
   ],
   "source": [
    "# Drop NaN values\n",
    "monthly_returns = monthly_returns.dropna()\n",
    "\n",
    "# Verify no NaN values remain\n",
    "monthly_returns.isna().sum()"
   ]
  },
  {
   "cell_type": "markdown",
   "metadata": {},
   "source": [
    "### 8: Calculate Summary Statistics"
   ]
  },
  {
   "cell_type": "code",
   "execution_count": 9,
   "metadata": {},
   "outputs": [
    {
     "name": "stdout",
     "output_type": "stream",
     "text": [
      "Mean Monthly Return: 0.009042\n",
      "Standard Deviation of Monthly Returns: 0.081745\n",
      "Skewness of Monthly Returns: 0.018437\n",
      "Kurtosis of Monthly Returns: 1.455060\n"
     ]
    }
   ],
   "source": [
    "# Compute summary statistics\n",
    "mean_return = monthly_returns.mean()\n",
    "std_return = monthly_returns.std()\n",
    "skew_return = monthly_returns.skew()\n",
    "kurt_return = monthly_returns.kurt()\n",
    "\n",
    "# Print the results\n",
    "print(f\"Mean Monthly Return: {mean_return:.6f}\")\n",
    "print(f\"Standard Deviation of Monthly Returns: {std_return:.6f}\")\n",
    "print(f\"Skewness of Monthly Returns: {skew_return:.6f}\")\n",
    "print(f\"Kurtosis of Monthly Returns: {kurt_return:.6f}\")"
   ]
  },
  {
   "cell_type": "markdown",
   "metadata": {},
   "source": [
    "### 9: Present Results in a Table"
   ]
  },
  {
   "cell_type": "code",
   "execution_count": 10,
   "metadata": {},
   "outputs": [
    {
     "data": {
      "text/html": [
       "<div>\n",
       "<style scoped>\n",
       "    .dataframe tbody tr th:only-of-type {\n",
       "        vertical-align: middle;\n",
       "    }\n",
       "\n",
       "    .dataframe tbody tr th {\n",
       "        vertical-align: top;\n",
       "    }\n",
       "\n",
       "    .dataframe thead th {\n",
       "        text-align: right;\n",
       "    }\n",
       "</style>\n",
       "<table border=\"1\" class=\"dataframe\">\n",
       "  <thead>\n",
       "    <tr style=\"text-align: right;\">\n",
       "      <th></th>\n",
       "      <th>Statistic</th>\n",
       "      <th>Value</th>\n",
       "    </tr>\n",
       "  </thead>\n",
       "  <tbody>\n",
       "    <tr>\n",
       "      <th>0</th>\n",
       "      <td>Mean</td>\n",
       "      <td>0.009042</td>\n",
       "    </tr>\n",
       "    <tr>\n",
       "      <th>1</th>\n",
       "      <td>Standard Deviation</td>\n",
       "      <td>0.081745</td>\n",
       "    </tr>\n",
       "    <tr>\n",
       "      <th>2</th>\n",
       "      <td>Skewness</td>\n",
       "      <td>0.018437</td>\n",
       "    </tr>\n",
       "    <tr>\n",
       "      <th>3</th>\n",
       "      <td>Kurtosis</td>\n",
       "      <td>1.455060</td>\n",
       "    </tr>\n",
       "  </tbody>\n",
       "</table>\n",
       "</div>"
      ],
      "text/plain": [
       "            Statistic     Value\n",
       "0                Mean  0.009042\n",
       "1  Standard Deviation  0.081745\n",
       "2            Skewness  0.018437\n",
       "3            Kurtosis  1.455060"
      ]
     },
     "metadata": {},
     "output_type": "display_data"
    }
   ],
   "source": [
    "# Create a DataFrame for the summary statistics\n",
    "stats = pd.DataFrame({\n",
    "    'Statistic': ['Mean', 'Standard Deviation', 'Skewness', 'Kurtosis'],\n",
    "    'Value': [mean_return, std_return, skew_return, kurt_return]\n",
    "})\n",
    "\n",
    "# Display the table\n",
    "display(stats)"
   ]
  },
  {
   "cell_type": "markdown",
   "metadata": {},
   "source": [
    "# (b)"
   ]
  },
  {
   "cell_type": "code",
   "execution_count": 11,
   "metadata": {},
   "outputs": [
    {
     "data": {
      "image/png": "[encoded data removed]",
      "text/plain": [
       "<Figure size 1000x600 with 1 Axes>"
      ]
     },
     "metadata": {},
     "output_type": "display_data"
    }
   ],
   "source": [
    "# Set figure size for clarity\n",
    "plt.figure(figsize=(10, 6))\n",
    "\n",
    "# Plot histogram of monthly returns\n",
    "# bins=30 provides granularity for ~215 data points; density=True normalizes to a probability density\n",
    "n, bins, patches = plt.hist(monthly_returns, bins=30, density=True, alpha=0.7, color='blue', label='Monthly Returns')\n",
    "\n",
    "# Overlay a normal distribution curve for comparison\n",
    "from scipy.stats import norm\n",
    "mu, sigma = monthly_returns.mean(), monthly_returns.std()\n",
    "x = np.linspace(min(monthly_returns), max(monthly_returns), 100)\n",
    "plt.plot(x, norm.pdf(x, mu, sigma), 'r-', lw=2, label='Normal Distribution')\n",
    "\n",
    "# Add labels and title\n",
    "plt.title('Histogram of CSI 300 Monthly Returns (2006–2023)', fontsize=14)\n",
    "plt.xlabel('Monthly Return', fontsize=12)\n",
    "plt.ylabel('Density', fontsize=12)\n",
    "plt.legend()\n",
    "plt.grid(True, alpha=0.3)\n",
    "\n",
    "# Display the plot\n",
    "plt.show()"
   ]
  },
  {
   "cell_type": "markdown",
   "metadata": {},
   "source": [
    "# (c)"
   ]
  },
  {
   "cell_type": "code",
   "execution_count": 13,
   "metadata": {},
   "outputs": [],
   "source": [
    "from scipy.stats import shapiro"
   ]
  },
  {
   "cell_type": "markdown",
   "metadata": {},
   "source": [
    "### Perform the Shapiro-Wilk Test"
   ]
  },
  {
   "cell_type": "code",
   "execution_count": 14,
   "metadata": {},
   "outputs": [
    {
     "name": "stdout",
     "output_type": "stream",
     "text": [
      "Shapiro-Wilk Test Statistic: 0.971284\n",
      "P-value: 0.000228\n"
     ]
    }
   ],
   "source": [
    "# Perform Shapiro-Wilk test\n",
    "stat, p_value = shapiro(monthly_returns)\n",
    "\n",
    "# Print results\n",
    "print(f\"Shapiro-Wilk Test Statistic: {stat:.6f}\")\n",
    "print(f\"P-value: {p_value:.6f}\")"
   ]
  },
  {
   "cell_type": "markdown",
   "metadata": {},
   "source": [
    "#### Details about the Shapiro-Wilk Test\n",
    "The Shapiro-Wilk test evaluates whether a sample comes from a normally distributed population. Here’s how it works:\n",
    "- **Test Statistic (W)**: Ranges from 0 to 1. A value close to 1 suggests the data is consistent with a normal distribution, while values further below 1 indicate deviations.\n",
    "- **P-value**: The probability of observing the test statistic (or a more extreme value) under the null hypothesis ($H_0$: the data is normally distributed). A low p-value (typically < 0.05) leads to rejecting $H_0$, implying the data is not normally distributed.\n",
    "\n",
    "For the above results:\n",
    "- **W = 0.971284**: This is fairly close to 1, suggesting the distribution isn’t wildly different from normal, but it’s not perfect.\n",
    "- **P-value = 0.000228**: This is well below the common significance level of 0.05, indicating strong evidence against normality.\n",
    "\n",
    "#### Test Result Interpretation\n",
    "The p-value of 0.000228 is tiny—much less than 0.05. Statistically, this means we reject the null hypothesis at the 5% significance level (and even at stricter levels like 1% or 0.1%). The CSI 300 monthly returns, based on this test alone, do not follow a normal distribution. The test statistic of 0.971284, while close to 1, isn’t enough to offset the p-value’s implication, especially with a sample size of around 215 monthly returns (assuming data from February 2006 to December 2023 after dropping the initial `NaN`)."
   ]
  }
 ],
 "metadata": {
  "kernelspec": {
   "display_name": "Python 3",
   "language": "python",
   "name": "python3"
  },
  "language_info": {
   "codemirror_mode": {
    "name": "ipython",
    "version": 3
   },
   "file_extension": ".py",
   "mimetype": "text/x-python",
   "name": "python",
   "nbconvert_exporter": "python",
   "pygments_lexer": "ipython3",
   "version": "3.12.0"
  }
 },
 "nbformat": 4,
 "nbformat_minor": 2
}
